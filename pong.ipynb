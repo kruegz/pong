{
  "nbformat": 4,
  "nbformat_minor": 0,
  "metadata": {
    "colab": {
      "name": "pong.ipynb",
      "provenance": [],
      "collapsed_sections": [
        "_jQ1tEQCxwRx"
      ],
      "include_colab_link": true
    },
    "kernelspec": {
      "display_name": "Python 3",
      "name": "python3"
    }
  },
  "cells": [
    {
      "cell_type": "markdown",
      "metadata": {
        "id": "view-in-github",
        "colab_type": "text"
      },
      "source": [
        "<a href=\"https://colab.research.google.com/github/kruegz/pong/blob/main/pong.ipynb\" target=\"_parent\"><img src=\"https://colab.research.google.com/assets/colab-badge.svg\" alt=\"Open In Colab\"/></a>"
      ]
    },
    {
      "cell_type": "markdown",
      "metadata": {
        "id": "p62G8M_viUJp"
      },
      "source": [
        "# Playing Pong with the Actor-Critic Method\n"
      ]
    },
    {
      "cell_type": "markdown",
      "metadata": {
        "id": "-mJ2i6jvZ3sK"
      },
      "source": [
        "<table class=\"tfo-notebook-buttons\" align=\"left\">\n",
        "  <td>\n",
        "    <a target=\"_blank\" href=\"https://www.tensorflow.org/tutorials/reinforcement_learning/actor_critic\">\n",
        "    <img src=\"https://www.tensorflow.org/images/tf_logo_32px.png\" />\n",
        "    View on TensorFlow.org</a>\n",
        "  </td>\n",
        "  <td>\n",
        "    <a target=\"_blank\" href=\"https://colab.research.google.com/github/tensorflow/docs/blob/master/site/en/tutorials/reinforcement_learning/actor_critic.ipynb\">\n",
        "    <img src=\"https://www.tensorflow.org/images/colab_logo_32px.png\" />\n",
        "    Run in Google Colab</a>\n",
        "  </td>\n",
        "  <td>\n",
        "    <a target=\"_blank\" href=\"https://github.com/tensorflow/docs/blob/master/site/en/tutorials/reinforcement_learning/actor_critic.ipynb\">\n",
        "    <img src=\"https://www.tensorflow.org/images/GitHub-Mark-32px.png\" />\n",
        "    View source on GitHub</a>\n",
        "  </td>\n",
        "  <td>\n",
        "    <a href=\"https://storage.googleapis.com/tensorflow_docs/docs/site/en/tutorials/reinforcement_learning/actor_critic.ipynb\"><img src=\"https://www.tensorflow.org/images/download_logo_32px.png\" />Download notebook</a>\n",
        "  </td>\n",
        "</table>"
      ]
    },
    {
      "cell_type": "markdown",
      "metadata": {
        "id": "kFgN7h_wiUJq"
      },
      "source": [
        "This tutorial demonstrates how to implement the [Actor-Critic](https://papers.nips.cc/paper/1786-actor-critic-algorithms.pdf) method using TensorFlow to train an agent on the [Open AI Gym](https://gym.openai.com/) Pong environment.\n",
        "The reader is assumed to have some familiarity with [policy gradient methods](https://papers.nips.cc/paper/1713-policy-gradient-methods-for-reinforcement-learning-with-function-approximation.pdf) of reinforcement learning. \n"
      ]
    },
    {
      "cell_type": "markdown",
      "metadata": {
        "id": "_kA10ZKRR0hi"
      },
      "source": [
        "**Actor-Critic methods**\n",
        "\n",
        "Actor-Critic methods are [temporal difference (TD) learning](https://en.wikipedia.org/wiki/Temporal_difference_learning) methods that represent the policy function independent of the value function. \n",
        "\n",
        "A policy function (or policy) returns a probability distribution over actions that the agent can take based on the given state.\n",
        "A value function determines the expected return for an agent starting at a given state and acting according to a particular policy forever after.\n",
        "\n",
        "In the Actor-Critic method, the policy is referred to as the *actor* that proposes a set of possible actions given a state, and the estimated value function is referred to as the *critic*, which evaluates actions taken by the *actor* based on the given policy.\n",
        "\n",
        "In this tutorial, both the *Actor* and *Critic* will be represented using one neural network with two outputs.\n"
      ]
    },
    {
      "cell_type": "markdown",
      "source": [
        "https://gym.openai.com/envs/Pong-v0/\n",
        "https://towardsdatascience.com/deep-q-network-dqn-i-bce08bdf2af\n",
        "https://towardsdatascience.com/getting-an-ai-to-play-atari-pong-with-deep-reinforcement-learning-47b0c56e78ae\n"
      ],
      "metadata": {
        "id": "QbCoedrbk1Oj"
      }
    },
    {
      "cell_type": "markdown",
      "metadata": {
        "id": "glLwIctHiUJq"
      },
      "source": [
        "## Setup\n",
        "\n",
        "Import necessary packages and configure global settings.\n"
      ]
    },
    {
      "cell_type": "code",
      "metadata": {
        "id": "WBeQhPi2S4m5"
      },
      "source": [
        "%%bash\n",
        "\n",
        "# Install main packages\n",
        "pip install gym > /dev/null 2>&1\n",
        "pip install pyglet > /dev/null 2>&1\n",
        "pip install atari-py > /dev/null 2>&1\n",
        "\n",
        "# Install additional packages for visualization\n",
        "sudo apt-get install -y xvfb python-opengl > /dev/null 2>&1\n",
        "pip install pyvirtualdisplay > /dev/null 2>&1\n",
        "pip install git+https://github.com/tensorflow/docs > /dev/null 2>&1\n",
        "\n",
        "\n",
        "# Download and install Atari ROMs\n",
        "# https://github.com/openai/atari-py#roms\n",
        "# http://www.atarimania.com/rom_collection_archive_atari_2600_roms.html\n",
        "wget http://www.atarimania.com/roms/Roms.rar\n",
        "unrar e Roms.rar\n",
        "python -m atari_py.import_roms .\n",
        "\n",
        "export DISPLAY=localhost:0.0 "
      ],
      "execution_count": null,
      "outputs": []
    },
    {
      "cell_type": "code",
      "metadata": {
        "id": "tT4N3qYviUJr"
      },
      "source": [
        "import collections\n",
        "import gym\n",
        "import numpy as np\n",
        "import statistics\n",
        "import tensorflow as tf\n",
        "import tqdm\n",
        "\n",
        "from matplotlib import pyplot as plt\n",
        "from tensorflow.keras import layers\n",
        "from typing import Any, List, Sequence, Tuple\n",
        "\n",
        "\n",
        "# Create the environment\n",
        "env = gym.make(\"Pong-v0\")\n",
        "\n",
        "# Set seed for experiment reproducibility\n",
        "seed = 42\n",
        "env.seed(seed)\n",
        "tf.random.set_seed(seed)\n",
        "np.random.seed(seed)\n",
        "\n",
        "# Small epsilon value for stabilizing division operations\n",
        "eps = np.finfo(np.float32).eps.item()"
      ],
      "execution_count": 2,
      "outputs": []
    },
    {
      "cell_type": "code",
      "source": [
        "print(\"Observation space is: {}\".format(env.observation_space))\n",
        "print(\"Action space is: {}\".format(env.action_space))"
      ],
      "metadata": {
        "id": "HTTT_GjmwcvP",
        "colab": {
          "base_uri": "https://localhost:8080/"
        },
        "outputId": "7cd60478-543f-40c6-dca3-0ea5c0797e94"
      },
      "execution_count": 9,
      "outputs": [
        {
          "output_type": "stream",
          "name": "stdout",
          "text": [
            "Observation space is: Box(0, 255, (210, 160, 3), uint8)\n",
            "Action space is: Discrete(6)\n"
          ]
        }
      ]
    },
    {
      "cell_type": "code",
      "source": [
        "\n",
        "# Render an episode and save as a GIF file\n",
        "\n",
        "from IPython import display as ipythondisplay\n",
        "from PIL import Image\n",
        "from pyvirtualdisplay import Display\n",
        "\n",
        "\n",
        "# display = Display(visible=0, size=(400, 300))\n",
        "# display.start()\n",
        "\n",
        "import cv2\n",
        "import numpy as np\n",
        "\n",
        "\n",
        "def resize_frame(frame):\n",
        "    # Resize to 84x84 grayscale\n",
        "    frame = frame[30:-12,5:-4]\n",
        "    frame = np.average(frame,axis = 2)\n",
        "    frame = cv2.resize(frame,(84,84),interpolation = cv2.INTER_NEAREST)\n",
        "    frame = np.array(frame,dtype = np.uint8)\n",
        "    return frame\n",
        "\n",
        "\n",
        "def render_episode(env: gym.Env, max_steps: int): \n",
        "  screen = env.render(mode='rgb_array')\n",
        "  resized_screen = resize_frame(screen)\n",
        "  im = Image.fromarray(resized_screen)\n",
        "\n",
        "  images = [im]\n",
        "  \n",
        "  state = tf.constant(env.reset(), dtype=tf.float32)\n",
        "\n",
        "  for i in range(1, max_steps + 1):\n",
        "    \n",
        "    obs, reward, done, info = env.step(env.action_space.sample()) # take a random action\n",
        "    # obs, reward, done, info = env.step(4)\n",
        "    # print(obs.shape)\n",
        "    # print(obs)\n",
        "    # print(reward, done, info)\n",
        "\n",
        "    screen = env.render(mode='rgb_array')\n",
        "    # images.append(Image.fromarray(screen))\n",
        "    resized_screen = resize_frame(screen)\n",
        "    images.append(Image.fromarray(resized_screen))\n",
        "  \n",
        "  return images\n",
        "\n",
        "# Save GIF image\n",
        "images = render_episode(env, 100)\n",
        "image_file = 'pong-v0.gif'\n",
        "# loop=0: loop forever, duration=1: play each frame for 1ms\n",
        "images[0].save(\n",
        "    image_file, save_all=True, append_images=images[1:], loop=0, duration=1)\n",
        "\n",
        "import tensorflow_docs.vis.embed as embed\n",
        "embed.embed_file(image_file)"
      ],
      "metadata": {
        "id": "YHF9Svfro84x",
        "colab": {
          "base_uri": "https://localhost:8080/",
          "height": 105
        },
        "outputId": "2a861367-7dd5-4ff8-e1d7-bc1007eab639"
      },
      "execution_count": 28,
      "outputs": [
        {
          "output_type": "execute_result",
          "data": {
            "text/html": [
              "<img src=\"data:image/gif;base64,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\"/>"
            ],
            "text/plain": [
              "<IPython.core.display.HTML object>"
            ]
          },
          "metadata": {},
          "execution_count": 28
        }
      ]
    },
    {
      "cell_type": "markdown",
      "metadata": {
        "id": "AOUCe2D0iUJu"
      },
      "source": [
        "## Model\n",
        "\n",
        "The *Actor* and *Critic* will be modeled using one neural network that generates the action probabilities and critic value respectively. This tutorial uses model subclassing to define the model. \n",
        "\n",
        "During the forward pass, the model will take in the state as the input and will output both action probabilities and critic value $V$, which models the state-dependent [value function](https://spinningup.openai.com/en/latest/spinningup/rl_intro.html#value-functions). The goal is to train a model that chooses actions based on a policy $\\pi$ that maximizes expected [return](https://spinningup.openai.com/en/latest/spinningup/rl_intro.html#reward-and-return).\n",
        "\n",
        "For Cartpole-v0, there are four values representing the state: cart position, cart-velocity, pole angle and pole velocity respectively. The agent can take two actions to push the cart left (0) and right (1) respectively.\n",
        "\n",
        "Refer to [OpenAI Gym's CartPole-v0 wiki page](http://www.derongliu.org/adp/adp-cdrom/Barto1983.pdf) for more information.\n"
      ]
    },
    {
      "cell_type": "code",
      "metadata": {
        "id": "aXKbbMC-kmuv"
      },
      "source": [
        "class ActorCritic(tf.keras.Model):\n",
        "  \"\"\"Combined actor-critic network.\"\"\"\n",
        "\n",
        "  def __init__(\n",
        "      self, \n",
        "      num_actions: int, \n",
        "      num_hidden_units: int):\n",
        "    \"\"\"Initialize.\"\"\"\n",
        "    super().__init__()\n",
        "\n",
        "    # self.common = layers.Dense(num_hidden_units, activation=\"relu\")\n",
        "    # self.actor = layers.Dense(num_actions)\n",
        "    # self.critic = layers.Dense(1)\n",
        "\n",
        "    input_shape = (1, 84, 84, 3)\n",
        "\n",
        "    self.conv = layers.Conv2D(2, 3, activation='relu', input_shape=input_shape[1:])\n",
        "    self.common = layers.Flatten()\n",
        "    self.actor = layers.Dense(num_actions)\n",
        "    self.critic = layers.Dense(1)\n",
        "\n",
        "  def call(self, inputs: tf.Tensor) -> Tuple[tf.Tensor, tf.Tensor]:\n",
        "    x = self.conv(inputs)\n",
        "    y = self.common(x)\n",
        "    return self.actor(y), self.critic(y)"
      ],
      "execution_count": null,
      "outputs": []
    },
    {
      "cell_type": "code",
      "metadata": {
        "id": "nWyxJgjLn68c"
      },
      "source": [
        "num_actions = env.action_space.n  # 6\n",
        "num_hidden_units = 128\n",
        "\n",
        "model = ActorCritic(num_actions, num_hidden_units)"
      ],
      "execution_count": null,
      "outputs": []
    },
    {
      "cell_type": "markdown",
      "metadata": {
        "id": "hk92njFziUJw"
      },
      "source": [
        "## Training\n",
        "\n",
        "To train the agent, you will follow these steps:\n",
        "\n",
        "1. Run the agent on the environment to collect training data per episode.\n",
        "2. Compute expected return at each time step.\n",
        "3. Compute the loss for the combined actor-critic model.\n",
        "4. Compute gradients and update network parameters.\n",
        "5. Repeat 1-4 until either success criterion or max episodes has been reached.\n"
      ]
    },
    {
      "cell_type": "markdown",
      "metadata": {
        "id": "R2nde2XDs8Gh"
      },
      "source": [
        "### 1. Collecting training data\n",
        "\n",
        "As in supervised learning, in order to train the actor-critic model, you need\n",
        "to have training data. However, in order to collect such data, the model would\n",
        "need to be \"run\" in the environment.\n",
        "\n",
        "Training data is collected for each episode. Then at each time step, the model's forward pass will be run on the environment's state in order to generate action probabilities and the critic value based on the current policy parameterized by the model's weights.\n",
        "\n",
        "The next action will be sampled from the action probabilities generated by the model, which would then be applied to the environment, causing the next state and reward to be generated.\n",
        "\n",
        "This process is implemented in the `run_episode` function, which uses TensorFlow operations so that it can later be compiled into a TensorFlow graph for faster training. Note that `tf.TensorArray`s were used to support Tensor iteration on variable length arrays."
      ]
    },
    {
      "cell_type": "code",
      "metadata": {
        "id": "5URrbGlDSAGx"
      },
      "source": [
        "# Wrap OpenAI Gym's `env.step` call as an operation in a TensorFlow function.\n",
        "# This would allow it to be included in a callable TensorFlow graph.\n",
        "\n",
        "def env_step(action: np.ndarray) -> Tuple[np.ndarray, np.ndarray, np.ndarray]:\n",
        "  \"\"\"Returns state, reward and done flag given an action.\"\"\"\n",
        "\n",
        "  state, reward, done, _ = env.step(action)\n",
        "  return (state.astype(np.float32), \n",
        "          np.array(reward, np.int32), \n",
        "          np.array(done, np.int32))\n",
        "\n",
        "\n",
        "def tf_env_step(action: tf.Tensor) -> List[tf.Tensor]:\n",
        "  return tf.numpy_function(env_step, [action], \n",
        "                           [tf.float32, tf.int32, tf.int32])"
      ],
      "execution_count": null,
      "outputs": []
    },
    {
      "cell_type": "code",
      "metadata": {
        "id": "a4qVRV063Cl9"
      },
      "source": [
        "def run_episode(\n",
        "    initial_state: tf.Tensor,  \n",
        "    model: tf.keras.Model, \n",
        "    max_steps: int) -> Tuple[tf.Tensor, tf.Tensor, tf.Tensor]:\n",
        "  \"\"\"Runs a single episode to collect training data.\"\"\"\n",
        "\n",
        "  action_probs = tf.TensorArray(dtype=tf.float32, size=0, dynamic_size=True)\n",
        "  values = tf.TensorArray(dtype=tf.float32, size=0, dynamic_size=True)\n",
        "  rewards = tf.TensorArray(dtype=tf.int32, size=0, dynamic_size=True)\n",
        "\n",
        "  initial_state_shape = initial_state.shape\n",
        "  state = initial_state\n",
        "\n",
        "  for t in tf.range(max_steps):\n",
        "    # Convert state into a batched tensor (batch size = 1)\n",
        "    state = tf.expand_dims(state, 0)\n",
        "  \n",
        "    # Run the model and to get action probabilities and critic value\n",
        "    action_logits_t, value = model(state)\n",
        "    print(action_logits_t, value)\n",
        "  \n",
        "    # Sample next action from the action probability distribution\n",
        "    action = tf.random.categorical(action_logits_t, 1)[0, 0]\n",
        "    action_probs_t = tf.nn.softmax(action_logits_t)\n",
        "\n",
        "    # Store critic values\n",
        "    values = values.write(t, tf.squeeze(value))\n",
        "\n",
        "    # Store log probability of the action chosen\n",
        "    action_probs = action_probs.write(t, action_probs_t[0, action])\n",
        "  \n",
        "    # Apply action to the environment to get next state and reward\n",
        "    state, reward, done = tf_env_step(action)\n",
        "    state.set_shape(initial_state_shape)\n",
        "  \n",
        "    # Store reward\n",
        "    rewards = rewards.write(t, reward)\n",
        "\n",
        "    if tf.cast(done, tf.bool):\n",
        "      break\n",
        "\n",
        "  action_probs = action_probs.stack()\n",
        "  values = values.stack()\n",
        "  rewards = rewards.stack()\n",
        "  \n",
        "  return action_probs, values, rewards"
      ],
      "execution_count": null,
      "outputs": []
    },
    {
      "cell_type": "markdown",
      "metadata": {
        "id": "lBnIHdz22dIx"
      },
      "source": [
        "### 2. Computing expected returns\n",
        "\n",
        "The sequence of rewards for each timestep $t$, $\\{r_{t}\\}^{T}_{t=1}$ collected during one episode is converted into a sequence of expected returns $\\{G_{t}\\}^{T}_{t=1}$ in which the sum of rewards is taken from the current timestep $t$ to $T$ and each reward is multiplied with an exponentially decaying discount factor $\\gamma$:\n",
        "\n",
        "$$G_{t} = \\sum^{T}_{t'=t} \\gamma^{t'-t}r_{t'}$$\n",
        "\n",
        "Since $\\gamma\\in(0,1)$, rewards further out from the current timestep are given less weight.\n",
        "\n",
        "Intuitively, expected return simply implies that rewards now are better than rewards later. In a mathematical sense, it is to ensure that the sum of the rewards converges.\n",
        "\n",
        "To stabilize training, the resulting sequence of returns is also standardized (i.e. to have zero mean and unit standard deviation).\n"
      ]
    },
    {
      "cell_type": "code",
      "metadata": {
        "id": "jpEwFyl315dl"
      },
      "source": [
        "def get_expected_return(\n",
        "    rewards: tf.Tensor, \n",
        "    gamma: float, \n",
        "    standardize: bool = True) -> tf.Tensor:\n",
        "  \"\"\"Compute expected returns per timestep.\"\"\"\n",
        "\n",
        "  n = tf.shape(rewards)[0]\n",
        "  returns = tf.TensorArray(dtype=tf.float32, size=n)\n",
        "\n",
        "  # Start from the end of `rewards` and accumulate reward sums\n",
        "  # into the `returns` array\n",
        "  rewards = tf.cast(rewards[::-1], dtype=tf.float32)\n",
        "  discounted_sum = tf.constant(0.0)\n",
        "  discounted_sum_shape = discounted_sum.shape\n",
        "  for i in tf.range(n):\n",
        "    reward = rewards[i]\n",
        "    discounted_sum = reward + gamma * discounted_sum\n",
        "    discounted_sum.set_shape(discounted_sum_shape)\n",
        "    returns = returns.write(i, discounted_sum)\n",
        "  returns = returns.stack()[::-1]\n",
        "\n",
        "  if standardize:\n",
        "    returns = ((returns - tf.math.reduce_mean(returns)) / \n",
        "               (tf.math.reduce_std(returns) + eps))\n",
        "\n",
        "  return returns"
      ],
      "execution_count": null,
      "outputs": []
    },
    {
      "cell_type": "markdown",
      "metadata": {
        "id": "1hrPLrgGxlvb"
      },
      "source": [
        "### 3. The actor-critic loss\n",
        "\n",
        "Since a hybrid actor-critic model is used, the chosen loss function is a combination of actor and critic losses for training, as shown below:\n",
        "\n",
        "$$L = L_{actor} + L_{critic}$$\n",
        "\n",
        "#### Actor loss\n",
        "\n",
        "The actor loss is based on [policy gradients with the critic as a state dependent baseline](https://www.youtube.com/watch?v=EKqxumCuAAY&t=62m23s) and computed with single-sample (per-episode) estimates.\n",
        "\n",
        "$$L_{actor} = -\\sum^{T}_{t=1} \\log\\pi_{\\theta}(a_{t} | s_{t})[G(s_{t}, a_{t})  - V^{\\pi}_{\\theta}(s_{t})]$$\n",
        "\n",
        "where:\n",
        "- $T$: the number of timesteps per episode, which can vary per episode\n",
        "- $s_{t}$: the state at timestep $t$\n",
        "- $a_{t}$: chosen action at timestep $t$ given state $s$\n",
        "- $\\pi_{\\theta}$: is the policy (actor) parameterized by $\\theta$\n",
        "- $V^{\\pi}_{\\theta}$: is the value function (critic) also parameterized by $\\theta$\n",
        "- $G = G_{t}$: the expected return for a given state, action pair at timestep $t$\n",
        "\n",
        "A negative term is added to the sum since the idea is to maximize the probabilities of actions yielding higher rewards by minimizing the combined loss.\n",
        "\n",
        "<br>\n",
        "\n",
        "##### Advantage\n",
        "\n",
        "The $G - V$ term in our $L_{actor}$ formulation is called the [advantage](https://spinningup.openai.com/en/latest/spinningup/rl_intro.html#advantage-functions), which indicates how much better an action is given a particular state over a random action selected according to the policy $\\pi$ for that state.\n",
        "\n",
        "While it's possible to exclude a baseline, this may result in high variance during training. And the nice thing about choosing the critic $V$ as a baseline is that it trained to be as close as possible to $G$, leading to a lower variance.\n",
        "\n",
        "In addition, without the critic, the algorithm would try to increase probabilities for actions taken on a particular state based on expected return, which may not make much of a difference if the relative probabilities between actions remain the same.\n",
        "\n",
        "For instance, suppose that two actions for a given state would yield the same expected return. Without the critic, the algorithm would try to raise the probability of these actions based on the objective $J$. With the critic, it may turn out that there's no advantage ($G - V = 0$) and thus no benefit gained in increasing the actions' probabilities and the algorithm would set the gradients to zero.\n",
        "\n",
        "<br>\n",
        "\n",
        "#### Critic loss\n",
        "\n",
        "Training $V$ to be as close possible to $G$ can be set up as a regression problem with the following loss function:\n",
        "\n",
        "$$L_{critic} = L_{\\delta}(G, V^{\\pi}_{\\theta})$$\n",
        "\n",
        "where $L_{\\delta}$ is the [Huber loss](https://en.wikipedia.org/wiki/Huber_loss), which is less sensitive to outliers in data than squared-error loss.\n"
      ]
    },
    {
      "cell_type": "code",
      "metadata": {
        "id": "9EXwbEez6n9m"
      },
      "source": [
        "huber_loss = tf.keras.losses.Huber(reduction=tf.keras.losses.Reduction.SUM)\n",
        "\n",
        "def compute_loss(\n",
        "    action_probs: tf.Tensor,  \n",
        "    values: tf.Tensor,  \n",
        "    returns: tf.Tensor) -> tf.Tensor:\n",
        "  \"\"\"Computes the combined actor-critic loss.\"\"\"\n",
        "\n",
        "  advantage = returns - values\n",
        "\n",
        "  action_log_probs = tf.math.log(action_probs)\n",
        "  actor_loss = -tf.math.reduce_sum(action_log_probs * advantage)\n",
        "\n",
        "  critic_loss = huber_loss(values, returns)\n",
        "\n",
        "  return actor_loss + critic_loss"
      ],
      "execution_count": null,
      "outputs": []
    },
    {
      "cell_type": "markdown",
      "metadata": {
        "id": "HSYkQOmRfV75"
      },
      "source": [
        "### 4. Defining the training step to update parameters\n",
        "\n",
        "All of the steps above are combined into a training step that is run every episode. All steps leading up to the loss function are executed with the `tf.GradientTape` context to enable automatic differentiation.\n",
        "\n",
        "This tutorial uses the Adam optimizer to apply the gradients to the model parameters.\n",
        "\n",
        "The sum of the undiscounted rewards, `episode_reward`, is also computed in this step. This value will be used later on to evaluate if the success criterion is met.\n",
        "\n",
        "The `tf.function` context is applied to the `train_step` function so that it can be compiled into a callable TensorFlow graph, which can lead to 10x speedup in training.\n"
      ]
    },
    {
      "cell_type": "code",
      "metadata": {
        "id": "QoccrkF3IFCg"
      },
      "source": [
        "optimizer = tf.keras.optimizers.Adam(learning_rate=0.01)\n",
        "\n",
        "\n",
        "@tf.function\n",
        "def train_step(\n",
        "    initial_state: tf.Tensor, \n",
        "    model: tf.keras.Model, \n",
        "    optimizer: tf.keras.optimizers.Optimizer, \n",
        "    gamma: float, \n",
        "    max_steps_per_episode: int) -> tf.Tensor:\n",
        "  \"\"\"Runs a model training step.\"\"\"\n",
        "\n",
        "  with tf.GradientTape() as tape:\n",
        "\n",
        "    # Run the model for one episode to collect training data\n",
        "    action_probs, values, rewards = run_episode(\n",
        "        initial_state, model, max_steps_per_episode) \n",
        "\n",
        "    # Calculate expected returns\n",
        "    returns = get_expected_return(rewards, gamma)\n",
        "\n",
        "    # Convert training data to appropriate TF tensor shapes\n",
        "    action_probs, values, returns = [\n",
        "        tf.expand_dims(x, 1) for x in [action_probs, values, returns]] \n",
        "\n",
        "    # Calculating loss values to update our network\n",
        "    loss = compute_loss(action_probs, values, returns)\n",
        "\n",
        "  # Compute the gradients from the loss\n",
        "  grads = tape.gradient(loss, model.trainable_variables)\n",
        "\n",
        "  # Apply the gradients to the model's parameters\n",
        "  optimizer.apply_gradients(zip(grads, model.trainable_variables))\n",
        "\n",
        "  episode_reward = tf.math.reduce_sum(rewards)\n",
        "\n",
        "  return episode_reward"
      ],
      "execution_count": null,
      "outputs": []
    },
    {
      "cell_type": "markdown",
      "metadata": {
        "id": "HFvZiDoAflGK"
      },
      "source": [
        "### 5. Run the training loop\n",
        "\n",
        "Training is executed by running the training step until either the success criterion or maximum number of episodes is reached.  \n",
        "\n",
        "A running record of episode rewards is kept in a queue. Once 100 trials are reached, the oldest reward is removed at the left (tail) end of the queue and the newest one is added at the head (right). A running sum of the rewards is also maintained for computational efficiency. \n",
        "\n",
        "Depending on your runtime, training can finish in less than a minute."
      ]
    },
    {
      "cell_type": "code",
      "metadata": {
        "id": "kbmBxnzLiUJx",
        "colab": {
          "base_uri": "https://localhost:8080/"
        },
        "outputId": "2c52c31b-d320-476c-c46b-054319349aad"
      },
      "source": [
        "%%time\n",
        "\n",
        "min_episodes_criterion = 100\n",
        "max_episodes = 10000\n",
        "max_steps_per_episode = 1000\n",
        "\n",
        "# Cartpole-v0 is considered solved if average reward is >= 195 over 100 \n",
        "# consecutive trials\n",
        "reward_threshold = 195\n",
        "running_reward = 0\n",
        "\n",
        "# Discount factor for future rewards\n",
        "gamma = 0.99\n",
        "\n",
        "# Keep last episodes reward\n",
        "episodes_reward: collections.deque = collections.deque(maxlen=min_episodes_criterion)\n",
        "\n",
        "with tqdm.trange(max_episodes) as t:\n",
        "  for i in t:\n",
        "    initial_state = tf.constant(env.reset(), dtype=tf.float32)\n",
        "    episode_reward = int(train_step(\n",
        "        initial_state, model, optimizer, gamma, max_steps_per_episode))\n",
        "    \n",
        "    episodes_reward.append(episode_reward)\n",
        "    running_reward = statistics.mean(episodes_reward)\n",
        "  \n",
        "    t.set_description(f'Episode {i}')\n",
        "    t.set_postfix(\n",
        "        episode_reward=episode_reward, running_reward=running_reward)\n",
        "  \n",
        "    # Show average episode reward every 10 episodes\n",
        "    if i % 10 == 0:\n",
        "      pass # print(f'Episode {i}: average reward: {avg_reward}')\n",
        "  \n",
        "    if running_reward > reward_threshold and i >= min_episodes_criterion:  \n",
        "        break\n",
        "\n",
        "print(f'\\nSolved at episode {i}: average reward: {running_reward:.2f}!')"
      ],
      "execution_count": null,
      "outputs": [
        {
          "output_type": "stream",
          "name": "stderr",
          "text": [
            "\r  0%|          | 0/10000 [00:00<?, ?it/s]"
          ]
        },
        {
          "output_type": "stream",
          "name": "stdout",
          "text": [
            "Tensor(\"while/actor_critic/dense/BiasAdd:0\", shape=(1, 6), dtype=float32) Tensor(\"while/actor_critic/dense_1/BiasAdd:0\", shape=(1, 1), dtype=float32)\n",
            "Tensor(\"while/actor_critic/dense/BiasAdd:0\", shape=(1, 6), dtype=float32) Tensor(\"while/actor_critic/dense_1/BiasAdd:0\", shape=(1, 1), dtype=float32)\n"
          ]
        },
        {
          "output_type": "stream",
          "name": "stderr",
          "text": [
            "Episode 44:   0%|          | 45/10000 [08:55<32:52:22, 11.89s/it, episode_reward=-18, running_reward=-18.8]"
          ]
        }
      ]
    },
    {
      "cell_type": "markdown",
      "metadata": {
        "id": "ru8BEwS1EmAv"
      },
      "source": [
        "## Visualization\n",
        "\n",
        "After training, it would be good to visualize how the model performs in the environment. You can run the cells below to generate a GIF animation of one episode run of the model. Note that additional packages need to be installed for OpenAI Gym to render the environment's images correctly in Colab."
      ]
    },
    {
      "cell_type": "code",
      "metadata": {
        "id": "qbIMMkfmRHyC"
      },
      "source": [
        "# Render an episode and save as a GIF file\n",
        "\n",
        "from IPython import display as ipythondisplay\n",
        "from PIL import Image\n",
        "from pyvirtualdisplay import Display\n",
        "\n",
        "\n",
        "display = Display(visible=0, size=(400, 300))\n",
        "display.start()\n",
        "\n",
        "\n",
        "def render_episode(env: gym.Env, model: tf.keras.Model, max_steps: int): \n",
        "  screen = env.render(mode='rgb_array')\n",
        "  im = Image.fromarray(screen)\n",
        "\n",
        "  images = [im]\n",
        "  \n",
        "  state = tf.constant(env.reset(), dtype=tf.float32)\n",
        "  for i in range(1, max_steps + 1):\n",
        "    state = tf.expand_dims(state, 0)\n",
        "    action_probs, _ = model(state)\n",
        "    action = np.argmax(np.squeeze(action_probs))\n",
        "\n",
        "    state, _, done, _ = env.step(action)\n",
        "    state = tf.constant(state, dtype=tf.float32)\n",
        "\n",
        "    # Render screen every 10 steps\n",
        "    if i % 10 == 0:\n",
        "      screen = env.render(mode='rgb_array')\n",
        "      images.append(Image.fromarray(screen))\n",
        "  \n",
        "    if done:\n",
        "      break\n",
        "  \n",
        "  return images\n",
        "\n",
        "\n",
        "# Save GIF image\n",
        "images = render_episode(env, model, max_steps_per_episode)\n",
        "image_file = 'cartpole-v0.gif'\n",
        "# loop=0: loop forever, duration=1: play each frame for 1ms\n",
        "images[0].save(\n",
        "    image_file, save_all=True, append_images=images[1:], loop=0, duration=1)"
      ],
      "execution_count": null,
      "outputs": []
    },
    {
      "cell_type": "code",
      "metadata": {
        "id": "TLd720SejKmf"
      },
      "source": [
        "import tensorflow_docs.vis.embed as embed\n",
        "embed.embed_file(image_file)"
      ],
      "execution_count": null,
      "outputs": []
    },
    {
      "cell_type": "markdown",
      "metadata": {
        "id": "lnq9Hzo1Po6X"
      },
      "source": [
        "## Next steps\n",
        "\n",
        "This tutorial demonstrated how to implement the actor-critic method using Tensorflow.\n",
        "\n",
        "As a next step, you could try training a model on a different environment in OpenAI Gym. \n",
        "\n",
        "For additional information regarding actor-critic methods and the Cartpole-v0 problem, you may refer to the following resources:\n",
        "\n",
        "- [Actor Critic Method](https://hal.inria.fr/hal-00840470/document)\n",
        "- [Actor Critic Lecture (CAL)](https://www.youtube.com/watch?v=EKqxumCuAAY&list=PLkFD6_40KJIwhWJpGazJ9VSj9CFMkb79A&index=7&t=0s)\n",
        "- [Cartpole learning control problem \\[Barto, et al. 1983\\]](http://www.derongliu.org/adp/adp-cdrom/Barto1983.pdf) \n",
        "\n",
        "For more reinforcement learning examples in TensorFlow, you can check the following resources:\n",
        "- [Reinforcement learning code examples (keras.io)](https://keras.io/examples/rl/)\n",
        "- [TF-Agents reinforcement learning library](https://www.tensorflow.org/agents)\n"
      ]
    }
  ]
}